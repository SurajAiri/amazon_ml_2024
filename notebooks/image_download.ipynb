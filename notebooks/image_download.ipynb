{
 "cells": [
  {
   "cell_type": "code",
   "execution_count": 1,
   "metadata": {},
   "outputs": [],
   "source": [
    "import pandas as pd\n"
   ]
  },
  {
   "cell_type": "code",
   "execution_count": 18,
   "metadata": {},
   "outputs": [],
   "source": [
    "DOWNLOAD_FOLDER = \"../dataset/images\"\n",
    "ITERATION_DOWNLOAD_RATE = 100\n",
    "PATH = \"../dataset/train.csv\"\n",
    "itr = 2638"
   ]
  },
  {
   "cell_type": "code",
   "execution_count": 3,
   "metadata": {},
   "outputs": [],
   "source": [
    "df = pd.read_csv(PATH)"
   ]
  },
  {
   "cell_type": "code",
   "execution_count": 4,
   "metadata": {},
   "outputs": [
    {
     "data": {
      "text/plain": [
       "(263859, 4)"
      ]
     },
     "execution_count": 4,
     "metadata": {},
     "output_type": "execute_result"
    }
   ],
   "source": [
    "df.shape"
   ]
  },
  {
   "cell_type": "code",
   "execution_count": 5,
   "metadata": {},
   "outputs": [
    {
     "data": {
      "text/html": [
       "<div>\n",
       "<style scoped>\n",
       "    .dataframe tbody tr th:only-of-type {\n",
       "        vertical-align: middle;\n",
       "    }\n",
       "\n",
       "    .dataframe tbody tr th {\n",
       "        vertical-align: top;\n",
       "    }\n",
       "\n",
       "    .dataframe thead th {\n",
       "        text-align: right;\n",
       "    }\n",
       "</style>\n",
       "<table border=\"1\" class=\"dataframe\">\n",
       "  <thead>\n",
       "    <tr style=\"text-align: right;\">\n",
       "      <th></th>\n",
       "      <th>image_link</th>\n",
       "      <th>group_id</th>\n",
       "      <th>entity_name</th>\n",
       "      <th>entity_value</th>\n",
       "    </tr>\n",
       "  </thead>\n",
       "  <tbody>\n",
       "    <tr>\n",
       "      <th>0</th>\n",
       "      <td>https://m.media-amazon.com/images/I/61I9XdN6OF...</td>\n",
       "      <td>748919</td>\n",
       "      <td>item_weight</td>\n",
       "      <td>500.0 gram</td>\n",
       "    </tr>\n",
       "    <tr>\n",
       "      <th>1</th>\n",
       "      <td>https://m.media-amazon.com/images/I/71gSRbyXmo...</td>\n",
       "      <td>916768</td>\n",
       "      <td>item_volume</td>\n",
       "      <td>1.0 cup</td>\n",
       "    </tr>\n",
       "    <tr>\n",
       "      <th>2</th>\n",
       "      <td>https://m.media-amazon.com/images/I/61BZ4zrjZX...</td>\n",
       "      <td>459516</td>\n",
       "      <td>item_weight</td>\n",
       "      <td>0.709 gram</td>\n",
       "    </tr>\n",
       "    <tr>\n",
       "      <th>3</th>\n",
       "      <td>https://m.media-amazon.com/images/I/612mrlqiI4...</td>\n",
       "      <td>459516</td>\n",
       "      <td>item_weight</td>\n",
       "      <td>0.709 gram</td>\n",
       "    </tr>\n",
       "    <tr>\n",
       "      <th>4</th>\n",
       "      <td>https://m.media-amazon.com/images/I/617Tl40LOX...</td>\n",
       "      <td>731432</td>\n",
       "      <td>item_weight</td>\n",
       "      <td>1400 milligram</td>\n",
       "    </tr>\n",
       "  </tbody>\n",
       "</table>\n",
       "</div>"
      ],
      "text/plain": [
       "                                          image_link  group_id  entity_name  \\\n",
       "0  https://m.media-amazon.com/images/I/61I9XdN6OF...    748919  item_weight   \n",
       "1  https://m.media-amazon.com/images/I/71gSRbyXmo...    916768  item_volume   \n",
       "2  https://m.media-amazon.com/images/I/61BZ4zrjZX...    459516  item_weight   \n",
       "3  https://m.media-amazon.com/images/I/612mrlqiI4...    459516  item_weight   \n",
       "4  https://m.media-amazon.com/images/I/617Tl40LOX...    731432  item_weight   \n",
       "\n",
       "     entity_value  \n",
       "0      500.0 gram  \n",
       "1         1.0 cup  \n",
       "2      0.709 gram  \n",
       "3      0.709 gram  \n",
       "4  1400 milligram  "
      ]
     },
     "execution_count": 5,
     "metadata": {},
     "output_type": "execute_result"
    }
   ],
   "source": [
    "df.head()"
   ]
  },
  {
   "cell_type": "code",
   "execution_count": 19,
   "metadata": {},
   "outputs": [
    {
     "name": "stdout",
     "output_type": "stream",
     "text": [
      "263800 263900\n",
      "['https://m.media-amazon.com/images/I/41CDDDqbgfL.jpg'\n",
      " 'https://m.media-amazon.com/images/I/51JORX+FG6L.jpg'\n",
      " 'https://m.media-amazon.com/images/I/613YI5EuKkL.jpg'\n",
      " 'https://m.media-amazon.com/images/I/516PxZwTi+L.jpg'\n",
      " 'https://m.media-amazon.com/images/I/41ApBcfx4jL.jpg'\n",
      " 'https://m.media-amazon.com/images/I/61-sumWyB6L.jpg'\n",
      " 'https://m.media-amazon.com/images/I/613W+VLtSnL.jpg'\n",
      " 'https://m.media-amazon.com/images/I/518jBGjUOXL.jpg'\n",
      " 'https://m.media-amazon.com/images/I/51X6x9bqD5L.jpg'\n",
      " 'https://m.media-amazon.com/images/I/61FZ4b5lMpL.jpg'\n",
      " 'https://m.media-amazon.com/images/I/41P5Jd7G68L.jpg'\n",
      " 'https://m.media-amazon.com/images/I/61-x1S+R0jS.jpg'\n",
      " 'https://m.media-amazon.com/images/I/51KyJeva15L.jpg'\n",
      " 'https://m.media-amazon.com/images/I/61FF46CgebL.jpg'\n",
      " 'https://m.media-amazon.com/images/I/610YGK-yT-L.jpg'\n",
      " 'https://m.media-amazon.com/images/I/51gp0lXDHQL.jpg'\n",
      " 'https://m.media-amazon.com/images/I/51QCYPhvVyL.jpg'\n",
      " 'https://m.media-amazon.com/images/I/615tLB9p5-L.jpg'\n",
      " 'https://m.media-amazon.com/images/I/51qH07xFfTL.jpg'\n",
      " 'https://m.media-amazon.com/images/I/51IhAYoTxJL.jpg'\n",
      " 'https://m.media-amazon.com/images/I/51yCNp4Ap0L.jpg'\n",
      " 'https://m.media-amazon.com/images/I/41pGK6sCGRS.jpg'\n",
      " 'https://m.media-amazon.com/images/I/614G0dyjUSL.jpg'\n",
      " 'https://m.media-amazon.com/images/I/61Bdhoz7h5S.jpg'\n",
      " 'https://m.media-amazon.com/images/I/61CKLpGH5cL.jpg'\n",
      " 'https://m.media-amazon.com/images/I/51qc+tu9rJS.jpg'\n",
      " 'https://m.media-amazon.com/images/I/51D4mDoWfEL.jpg'\n",
      " 'https://m.media-amazon.com/images/I/51upageNtUL.jpg'\n",
      " 'https://m.media-amazon.com/images/I/41m3QyLuMaL.jpg'\n",
      " 'https://m.media-amazon.com/images/I/61Ezp3JMixL.jpg'\n",
      " 'https://m.media-amazon.com/images/I/51LED-uvQTL.jpg'\n",
      " 'https://m.media-amazon.com/images/I/61B3oiCMP5L.jpg'\n",
      " 'https://m.media-amazon.com/images/I/612by+Ah+8L.jpg'\n",
      " 'https://m.media-amazon.com/images/I/51jphvhr--L.jpg'\n",
      " 'https://m.media-amazon.com/images/I/611mAk93hiL.jpg'\n",
      " 'https://m.media-amazon.com/images/I/614uvkwhjEL.jpg'\n",
      " 'https://m.media-amazon.com/images/I/615xxVn4ZzL.jpg'\n",
      " 'https://m.media-amazon.com/images/I/61Fc1t5Rs1L.jpg'\n",
      " 'https://m.media-amazon.com/images/I/51BmmHTHzgL.jpg'\n",
      " 'https://m.media-amazon.com/images/I/51DHFEVznYL.jpg'\n",
      " 'https://m.media-amazon.com/images/I/6102UM3jqjL.jpg'\n",
      " 'https://m.media-amazon.com/images/I/51cmRLa0vLS.jpg'\n",
      " 'https://m.media-amazon.com/images/I/41Pl2JA0QBL.jpg'\n",
      " 'https://m.media-amazon.com/images/I/61A+NA6DT+L.jpg'\n",
      " 'https://m.media-amazon.com/images/I/51JzEHh+2OL.jpg'\n",
      " 'https://m.media-amazon.com/images/I/51UfVCkqP7L.jpg'\n",
      " 'https://m.media-amazon.com/images/I/519Eb7kjRsL.jpg'\n",
      " 'https://m.media-amazon.com/images/I/41t8xU9EZiL.jpg'\n",
      " 'https://m.media-amazon.com/images/I/51JtrAXorLL.jpg'\n",
      " 'https://m.media-amazon.com/images/I/61-1ebQE-9L.jpg'\n",
      " 'https://m.media-amazon.com/images/I/51xvxFlRXoL.jpg'\n",
      " 'https://m.media-amazon.com/images/I/51glSG-nd+L.jpg'\n",
      " 'https://m.media-amazon.com/images/I/51-tbcJ4qbL.jpg'\n",
      " 'https://m.media-amazon.com/images/I/515WWrQ0UIL.jpg'\n",
      " 'https://m.media-amazon.com/images/I/612J1R1xHlL.jpg'\n",
      " 'https://m.media-amazon.com/images/I/61Blzh2+28L.jpg'\n",
      " 'https://m.media-amazon.com/images/I/51MsegDL9VL.jpg'\n",
      " 'https://m.media-amazon.com/images/I/510KhVw4VSL.jpg'\n",
      " 'https://m.media-amazon.com/images/I/51lzTNLQ-6S.jpg']\n",
      "2638\n"
     ]
    }
   ],
   "source": [
    "start = itr * ITERATION_DOWNLOAD_RATE\n",
    "while(start < df.shape[0]):\n",
    "    print(start, start + ITERATION_DOWNLOAD_RATE)\n",
    "    links = df['image_link'].iloc[start:start + ITERATION_DOWNLOAD_RATE]\n",
    "    print(links.values)\n",
    "    # print(df.iloc[start:start + ITERATION_DOWNLOAD_RATE])\n",
    "    start = start + ITERATION_DOWNLOAD_RATE"
   ]
  },
  {
   "cell_type": "code",
   "execution_count": null,
   "metadata": {},
   "outputs": [],
   "source": []
  },
  {
   "cell_type": "code",
   "execution_count": 22,
   "metadata": {},
   "outputs": [],
   "source": []
  },
  {
   "cell_type": "code",
   "execution_count": null,
   "metadata": {},
   "outputs": [],
   "source": []
  }
 ],
 "metadata": {
  "kernelspec": {
   "display_name": "amazonMlEnv",
   "language": "python",
   "name": "python3"
  },
  "language_info": {
   "codemirror_mode": {
    "name": "ipython",
    "version": 3
   },
   "file_extension": ".py",
   "mimetype": "text/x-python",
   "name": "python",
   "nbconvert_exporter": "python",
   "pygments_lexer": "ipython3",
   "version": "3.12.5"
  }
 },
 "nbformat": 4,
 "nbformat_minor": 2
}
