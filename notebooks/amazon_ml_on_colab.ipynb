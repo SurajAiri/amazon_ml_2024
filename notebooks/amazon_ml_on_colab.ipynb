{
  "nbformat": 4,
  "nbformat_minor": 0,
  "metadata": {
    "colab": {
      "provenance": []
    },
    "kernelspec": {
      "name": "python3",
      "display_name": "Python 3"
    },
    "language_info": {
      "name": "python"
    }
  },
  "cells": [
    {
      "cell_type": "code",
      "execution_count": 1,
      "metadata": {
        "colab": {
          "base_uri": "https://localhost:8080/"
        },
        "id": "5gL-qWIVKJtV",
        "outputId": "035fda8d-1f03-4ffe-e9f1-f4419cbd5b71"
      },
      "outputs": [
        {
          "output_type": "stream",
          "name": "stdout",
          "text": [
            "Mounted at /content/drive\n"
          ]
        }
      ],
      "source": [
        "# Load the Drive helper and mount\n",
        "from google.colab import drive\n",
        "drive.mount('/content/drive')\n"
      ]
    },
    {
      "cell_type": "code",
      "source": [
        "!git clone https://github.com/surajAiri/amazon_ml_2024"
      ],
      "metadata": {
        "id": "uVLdj71TNE3J",
        "colab": {
          "base_uri": "https://localhost:8080/"
        },
        "outputId": "9e8ae759-e2a8-422d-b7fe-2eb201167d32"
      },
      "execution_count": 2,
      "outputs": [
        {
          "output_type": "stream",
          "name": "stdout",
          "text": [
            "Cloning into 'amazon_ml_2024'...\n",
            "remote: Enumerating objects: 35, done.\u001b[K\n",
            "remote: Counting objects: 100% (35/35), done.\u001b[K\n",
            "remote: Compressing objects: 100% (25/25), done.\u001b[K\n",
            "remote: Total 35 (delta 11), reused 31 (delta 7), pack-reused 0 (from 0)\u001b[K\n",
            "Receiving objects: 100% (35/35), 67.63 KiB | 1.33 MiB/s, done.\n",
            "Resolving deltas: 100% (11/11), done.\n"
          ]
        }
      ]
    },
    {
      "cell_type": "code",
      "source": [
        "# !cp -r /content/amazon_ml_2024/ /content/drive/MyDrive/code"
      ],
      "metadata": {
        "id": "yJsGdFIiNbYb"
      },
      "execution_count": null,
      "outputs": []
    },
    {
      "cell_type": "code",
      "source": [
        "!pwd"
      ],
      "metadata": {
        "colab": {
          "base_uri": "https://localhost:8080/"
        },
        "id": "iCUHAf7ZNeAQ",
        "outputId": "c3215408-ac5a-45d4-d281-285960a04012"
      },
      "execution_count": null,
      "outputs": [
        {
          "output_type": "stream",
          "name": "stdout",
          "text": [
            "/content/amazon_ml_2024\n"
          ]
        }
      ]
    },
    {
      "cell_type": "code",
      "source": [
        "import pandas as pd\n",
        "# copy dataset on drive if not exists\n",
        "dataset_path = \"/content/drive/MyDrive/code/amazon_ml_2024/dataset/train.csv\""
      ],
      "metadata": {
        "id": "TqYcXy68OiUC"
      },
      "execution_count": 5,
      "outputs": []
    },
    {
      "cell_type": "code",
      "source": [
        "df = pd.read_csv(dataset_path)"
      ],
      "metadata": {
        "id": "rXNtSzs1OykB"
      },
      "execution_count": 7,
      "outputs": []
    },
    {
      "cell_type": "code",
      "source": [
        "!python /content/amazon_ml_2024/src/dataset.py -dp \"/content/drive/MyDrive/code/amazon_ml_2024/dataset/train.csv\" --mode download --start 0 --end 1_000 -idr 1000"
      ],
      "metadata": {
        "id": "Hy4KJFTvPVoU",
        "colab": {
          "base_uri": "https://localhost:8080/"
        },
        "outputId": "7a5ce417-0611-43ae-fa5d-654d2e929612"
      },
      "execution_count": 11,
      "outputs": [
        {
          "output_type": "stream",
          "name": "stdout",
          "text": [
            "start:  0 end:  1000\n",
            "100% 1000/1000 [00:14<00:00, 66.97it/s]\n",
            "Successfully downloaded 0 images\n",
            "\n"
          ]
        }
      ]
    },
    {
      "cell_type": "code",
      "source": [
        "!python /content/amazon_ml_2024/src/dataset.py -dp \"/content/drive/MyDrive/code/amazon_ml_2024/dataset/train.csv\" --mode validate --start 0 --end 1_000"
      ],
      "metadata": {
        "id": "v3bDV6huO1Ca",
        "colab": {
          "base_uri": "https://localhost:8080/"
        },
        "outputId": "75d71018-08dc-4701-b014-033fb230e151"
      },
      "execution_count": 12,
      "outputs": [
        {
          "output_type": "stream",
          "name": "stdout",
          "text": [
            "All images exist\n"
          ]
        }
      ]
    },
    {
      "cell_type": "code",
      "source": [
        "!python /content/amazon_ml_2024/src/dataset.py -h"
      ],
      "metadata": {
        "id": "CKtTdvSPPGYG",
        "colab": {
          "base_uri": "https://localhost:8080/"
        },
        "outputId": "5ca1d493-0a9b-475d-d6ab-54a1278707d2"
      },
      "execution_count": 13,
      "outputs": [
        {
          "output_type": "stream",
          "name": "stdout",
          "text": [
            "usage: dataset.py [-h] -m {download,validate} [-dp DATASET_PATH] [-df DOWNLOAD_FOLDER] [-s START]\n",
            "                  [-e END] [-idr ITERATION_DOWNLOAD_RATE] [-im]\n",
            "\n",
            "Download and validate images.\n",
            "\n",
            "options:\n",
            "  -h, --help            show this help message and exit\n",
            "  -m {download,validate}, --mode {download,validate}\n",
            "                        Mode to run the script in: 'download' or 'validate'.\n",
            "  -dp DATASET_PATH, --dataset_path DATASET_PATH\n",
            "                        Path to the CSV file containing image links.\n",
            "  -df DOWNLOAD_FOLDER, --download_folder DOWNLOAD_FOLDER\n",
            "                        Folder to save the downloaded images.\n",
            "  -s START, --start START\n",
            "                        Start index for downloading/validating images.\n",
            "  -e END, --end END     End index for downloading/validating images.\n",
            "  -idr ITERATION_DOWNLOAD_RATE, --iteration_download_rate ITERATION_DOWNLOAD_RATE\n",
            "                        Number of images to download per iteration.\n",
            "  -im, --ignore_missing\n",
            "                        Won't download missing images during validation.\n"
          ]
        }
      ]
    },
    {
      "cell_type": "code",
      "source": [],
      "metadata": {
        "id": "156_NjhGtO_8"
      },
      "execution_count": null,
      "outputs": []
    }
  ]
}